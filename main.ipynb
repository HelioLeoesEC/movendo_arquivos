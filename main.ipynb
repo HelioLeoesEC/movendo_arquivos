{
 "cells": [
  {
   "cell_type": "code",
   "execution_count": 1,
   "metadata": {},
   "outputs": [],
   "source": [
    "import shutil\n",
    "import os\n",
    "import pandas as pd"
   ]
  },
  {
   "cell_type": "code",
   "execution_count": 15,
   "metadata": {},
   "outputs": [],
   "source": [
    "source = r'C:\\Users\\User\\Desktop\\Renderizações\\SAO JOAO 3'\n",
    "destination = r'C:\\Users\\User\\Desktop\\Renderizações\\SAO JOAO 4'\n",
    "lista_de_arquivos = listdir(source)"
   ]
  },
  {
   "cell_type": "code",
   "execution_count": 6,
   "metadata": {},
   "outputs": [
    {
     "data": {
      "text/plain": [
       "'C:\\\\Users\\\\User\\\\Desktop\\\\Renderizações\\\\SAO JOAO 3\\\\SAO JOAO 2.xlsx'"
      ]
     },
     "execution_count": 6,
     "metadata": {},
     "output_type": "execute_result"
    }
   ],
   "source": [
    "shutil.move(source,destination)"
   ]
  },
  {
   "cell_type": "code",
   "execution_count": 2,
   "metadata": {},
   "outputs": [],
   "source": [
    "def mover_arquivos(bairro_destino, BAIRRO_fonte):\n",
    "    source = r'C:\\Users\\User\\Google Drive\\dados/' + BAIRRO_fonte\n",
    "    destination = r'C:\\Users\\User\\Google Drive\\dados' + '/'+bairro_destino\n",
    "\n",
    "    if os.path.isdir(destination):\n",
    "        print('O diretorio existe')\n",
    "    else:\n",
    "        os.mkdir(destination)\n",
    "\n",
    "    lista_de_arquivos = os.listdir(source)\n",
    "\n",
    "    for i in lista_de_arquivos:\n",
    "        new_path = shutil.move(f\"{source}/{i}\",destination)\n",
    "        print(new_path)\n",
    "\n",
    "    fileTest = source\n",
    "#------------------------------------------------------------\n",
    "#implementar aopagar pastas\n",
    "\n",
    "\n",
    "\n",
    "\n"
   ]
  },
  {
   "cell_type": "code",
   "execution_count": 12,
   "metadata": {},
   "outputs": [
    {
     "name": "stdout",
     "output_type": "stream",
     "text": [
      "O diretorio existe\n",
      "C:\\Users\\User\\Google Drive\\dados/RESIDENCIAL SION\\CONSELHEIRO_LAFAIETE_NOTIFICACAO_RECADASTRAMENTO_1020110_444761.PDF\n",
      "C:\\Users\\User\\Google Drive\\dados/RESIDENCIAL SION\\CONSELHEIRO_LAFAIETE_NOTIFICACAO_RECADASTRAMENTO_1049054_444738.PDF\n",
      "C:\\Users\\User\\Google Drive\\dados/RESIDENCIAL SION\\CONSELHEIRO_LAFAIETE_NOTIFICACAO_RECADASTRAMENTO_1190088_444750.PDF\n",
      "C:\\Users\\User\\Google Drive\\dados/RESIDENCIAL SION\\CONSELHEIRO_LAFAIETE_NOTIFICACAO_RECADASTRAMENTO_22896_444752.PDF\n",
      "C:\\Users\\User\\Google Drive\\dados/RESIDENCIAL SION\\CONSELHEIRO_LAFAIETE_NOTIFICACAO_RECADASTRAMENTO_23310_444742.PDF\n",
      "C:\\Users\\User\\Google Drive\\dados/RESIDENCIAL SION\\CONSELHEIRO_LAFAIETE_NOTIFICACAO_RECADASTRAMENTO_272574_444751.PDF\n",
      "C:\\Users\\User\\Google Drive\\dados/RESIDENCIAL SION\\CONSELHEIRO_LAFAIETE_NOTIFICACAO_RECADASTRAMENTO_272710_444753.PDF\n",
      "C:\\Users\\User\\Google Drive\\dados/RESIDENCIAL SION\\CONSELHEIRO_LAFAIETE_NOTIFICACAO_RECADASTRAMENTO_272787_444737.PDF\n",
      "C:\\Users\\User\\Google Drive\\dados/RESIDENCIAL SION\\CONSELHEIRO_LAFAIETE_NOTIFICACAO_RECADASTRAMENTO_272914_444756.PDF\n",
      "C:\\Users\\User\\Google Drive\\dados/RESIDENCIAL SION\\CONSELHEIRO_LAFAIETE_NOTIFICACAO_RECADASTRAMENTO_272930_444727.PDF\n",
      "C:\\Users\\User\\Google Drive\\dados/RESIDENCIAL SION\\CONSELHEIRO_LAFAIETE_NOTIFICACAO_RECADASTRAMENTO_272981_444730.PDF\n",
      "C:\\Users\\User\\Google Drive\\dados/RESIDENCIAL SION\\CONSELHEIRO_LAFAIETE_NOTIFICACAO_RECADASTRAMENTO_273031_444764.PDF\n",
      "C:\\Users\\User\\Google Drive\\dados/RESIDENCIAL SION\\CONSELHEIRO_LAFAIETE_NOTIFICACAO_RECADASTRAMENTO_273082_444732.PDF\n",
      "C:\\Users\\User\\Google Drive\\dados/RESIDENCIAL SION\\CONSELHEIRO_LAFAIETE_NOTIFICACAO_RECADASTRAMENTO_273090_444755.PDF\n",
      "C:\\Users\\User\\Google Drive\\dados/RESIDENCIAL SION\\CONSELHEIRO_LAFAIETE_NOTIFICACAO_RECADASTRAMENTO_273317_444759.PDF\n",
      "C:\\Users\\User\\Google Drive\\dados/RESIDENCIAL SION\\CONSELHEIRO_LAFAIETE_NOTIFICACAO_RECADASTRAMENTO_273341_444728.PDF\n",
      "C:\\Users\\User\\Google Drive\\dados/RESIDENCIAL SION\\CONSELHEIRO_LAFAIETE_NOTIFICACAO_RECADASTRAMENTO_273350_444729.PDF\n",
      "C:\\Users\\User\\Google Drive\\dados/RESIDENCIAL SION\\CONSELHEIRO_LAFAIETE_NOTIFICACAO_RECADASTRAMENTO_273368_444766.PDF\n",
      "C:\\Users\\User\\Google Drive\\dados/RESIDENCIAL SION\\CONSELHEIRO_LAFAIETE_NOTIFICACAO_RECADASTRAMENTO_273384_444731.PDF\n",
      "C:\\Users\\User\\Google Drive\\dados/RESIDENCIAL SION\\CONSELHEIRO_LAFAIETE_NOTIFICACAO_RECADASTRAMENTO_273520_444736.PDF\n",
      "C:\\Users\\User\\Google Drive\\dados/RESIDENCIAL SION\\CONSELHEIRO_LAFAIETE_NOTIFICACAO_RECADASTRAMENTO_273562_444754.PDF\n",
      "C:\\Users\\User\\Google Drive\\dados/RESIDENCIAL SION\\CONSELHEIRO_LAFAIETE_NOTIFICACAO_RECADASTRAMENTO_273570_444763.PDF\n",
      "C:\\Users\\User\\Google Drive\\dados/RESIDENCIAL SION\\CONSELHEIRO_LAFAIETE_NOTIFICACAO_RECADASTRAMENTO_275581_444765.PDF\n",
      "C:\\Users\\User\\Google Drive\\dados/RESIDENCIAL SION\\CONSELHEIRO_LAFAIETE_NOTIFICACAO_RECADASTRAMENTO_275603_444739.PDF\n",
      "C:\\Users\\User\\Google Drive\\dados/RESIDENCIAL SION\\CONSELHEIRO_LAFAIETE_NOTIFICACAO_RECADASTRAMENTO_31470_444757.PDF\n",
      "C:\\Users\\User\\Google Drive\\dados/RESIDENCIAL SION\\CONSELHEIRO_LAFAIETE_NOTIFICACAO_RECADASTRAMENTO_32956_444735.PDF\n",
      "C:\\Users\\User\\Google Drive\\dados/RESIDENCIAL SION\\CONSELHEIRO_LAFAIETE_NOTIFICACAO_RECADASTRAMENTO_33014_444743.PDF\n",
      "C:\\Users\\User\\Google Drive\\dados/RESIDENCIAL SION\\CONSELHEIRO_LAFAIETE_NOTIFICACAO_RECADASTRAMENTO_389420_444762.PDF\n",
      "C:\\Users\\User\\Google Drive\\dados/RESIDENCIAL SION\\CONSELHEIRO_LAFAIETE_NOTIFICACAO_RECADASTRAMENTO_419230_444760.PDF\n",
      "C:\\Users\\User\\Google Drive\\dados/RESIDENCIAL SION\\CONSELHEIRO_LAFAIETE_NOTIFICACAO_RECADASTRAMENTO_58386_444749.PDF\n",
      "C:\\Users\\User\\Google Drive\\dados/RESIDENCIAL SION\\CONSELHEIRO_LAFAIETE_NOTIFICACAO_RECADASTRAMENTO_59609_444747.PDF\n",
      "C:\\Users\\User\\Google Drive\\dados/RESIDENCIAL SION\\CONSELHEIRO_LAFAIETE_NOTIFICACAO_RECADASTRAMENTO_80160_444758.PDF\n",
      "C:\\Users\\User\\Google Drive\\dados/RESIDENCIAL SION\\CONSELHEIRO_LAFAIETE_NOTIFICACAO_RECADASTRAMENTO_833410_444744.PDF\n",
      "C:\\Users\\User\\Google Drive\\dados/RESIDENCIAL SION\\CONSELHEIRO_LAFAIETE_NOTIFICACAO_RECADASTRAMENTO_84360_444748.PDF\n",
      "C:\\Users\\User\\Google Drive\\dados/RESIDENCIAL SION\\CONSELHEIRO_LAFAIETE_NOTIFICACAO_RECADASTRAMENTO_84840_444745.PDF\n",
      "C:\\Users\\User\\Google Drive\\dados/RESIDENCIAL SION\\CONSELHEIRO_LAFAIETE_NOTIFICACAO_RECADASTRAMENTO_892564_444746.PDF\n",
      "C:\\Users\\User\\Google Drive\\dados/RESIDENCIAL SION\\CONSELHEIRO_LAFAIETE_NOTIFICACAO_RECADASTRAMENTO_936642_444734.PDF\n",
      "C:\\Users\\User\\Google Drive\\dados/RESIDENCIAL SION\\CONSELHEIRO_LAFAIETE_NOTIFICACAO_RECADASTRAMENTO_955272_444741.PDF\n",
      "C:\\Users\\User\\Google Drive\\dados/RESIDENCIAL SION\\CONSELHEIRO_LAFAIETE_NOTIFICACAO_RECADASTRAMENTO_955337_444740.PDF\n",
      "C:\\Users\\User\\Google Drive\\dados/RESIDENCIAL SION\\CONSELHEIRO_LAFAIETE_NOTIFICACAO_RECADASTRAMENTO_956910_444733.PDF\n",
      "C:\\Users\\User\\Google Drive\\dados/RESIDENCIAL SION\\RESIDENCIAL SION 3.xlsx\n"
     ]
    }
   ],
   "source": [
    "mover_arquivos('RESIDENCIAL SION','RESIDENCIAL SION 3')"
   ]
  },
  {
   "cell_type": "code",
   "execution_count": 15,
   "metadata": {},
   "outputs": [],
   "source": [
    "dados3 = pd.DataFrame(pd.read_excel('SAO JOAO 3.xlsx'))\n",
    "dados4 = pd.DataFrame(pd.read_excel('SAO JOAO 4.xlsx'))\n",
    "dados = pd.read_excel('SAO JOAO 3.xlsx')\n"
   ]
  },
  {
   "cell_type": "code",
   "execution_count": 23,
   "metadata": {},
   "outputs": [],
   "source": [
    "dados = pd.concat([dados3,dados4],ignore_index=True)"
   ]
  },
  {
   "cell_type": "code",
   "execution_count": 27,
   "metadata": {},
   "outputs": [],
   "source": [
    "dados.to_excel(r'C:\\Users\\User\\Google Drive\\movendo_arquivos\\SAO JOAO.xlsx', index=False)"
   ]
  },
  {
   "cell_type": "code",
   "execution_count": 28,
   "metadata": {},
   "outputs": [
    {
     "data": {
      "text/html": [
       "<div>\n",
       "<style scoped>\n",
       "    .dataframe tbody tr th:only-of-type {\n",
       "        vertical-align: middle;\n",
       "    }\n",
       "\n",
       "    .dataframe tbody tr th {\n",
       "        vertical-align: top;\n",
       "    }\n",
       "\n",
       "    .dataframe thead th {\n",
       "        text-align: right;\n",
       "    }\n",
       "</style>\n",
       "<table border=\"1\" class=\"dataframe\">\n",
       "  <thead>\n",
       "    <tr style=\"text-align: right;\">\n",
       "      <th></th>\n",
       "      <th>Unnamed: 0</th>\n",
       "      <th>INSCRIÇÃO</th>\n",
       "      <th>GeoCodigo</th>\n",
       "      <th>Proprietario</th>\n",
       "      <th>Status</th>\n",
       "    </tr>\n",
       "  </thead>\n",
       "  <tbody>\n",
       "    <tr>\n",
       "      <th>0</th>\n",
       "      <td>0</td>\n",
       "      <td>835498</td>\n",
       "      <td>627228_7713615</td>\n",
       "      <td>LILIAN ROBERTA DE FREITAS</td>\n",
       "      <td>True</td>\n",
       "    </tr>\n",
       "    <tr>\n",
       "      <th>1</th>\n",
       "      <td>1</td>\n",
       "      <td>156248</td>\n",
       "      <td>627365_7713944</td>\n",
       "      <td>IVAN FELIX DOS SANTOS</td>\n",
       "      <td>True</td>\n",
       "    </tr>\n",
       "    <tr>\n",
       "      <th>2</th>\n",
       "      <td>2</td>\n",
       "      <td>1044478</td>\n",
       "      <td>626994_7712391</td>\n",
       "      <td>JOAO PAULO DE ASSIS GURGEL</td>\n",
       "      <td>True</td>\n",
       "    </tr>\n",
       "    <tr>\n",
       "      <th>3</th>\n",
       "      <td>3</td>\n",
       "      <td>119806</td>\n",
       "      <td>627083_7713111</td>\n",
       "      <td>JUAREZ VIEIRA DE LIMA</td>\n",
       "      <td>True</td>\n",
       "    </tr>\n",
       "    <tr>\n",
       "      <th>4</th>\n",
       "      <td>4</td>\n",
       "      <td>124702</td>\n",
       "      <td>627183_7713262</td>\n",
       "      <td>WEVERTON HELENO MOREIRA</td>\n",
       "      <td>True</td>\n",
       "    </tr>\n",
       "    <tr>\n",
       "      <th>...</th>\n",
       "      <td>...</td>\n",
       "      <td>...</td>\n",
       "      <td>...</td>\n",
       "      <td>...</td>\n",
       "      <td>...</td>\n",
       "    </tr>\n",
       "    <tr>\n",
       "      <th>153</th>\n",
       "      <td>101</td>\n",
       "      <td>873250</td>\n",
       "      <td>627220_7716465</td>\n",
       "      <td>MARSIL LTDA</td>\n",
       "      <td>False</td>\n",
       "    </tr>\n",
       "    <tr>\n",
       "      <th>154</th>\n",
       "      <td>102</td>\n",
       "      <td>873098</td>\n",
       "      <td>627243_7716521</td>\n",
       "      <td>MARSIL LTDA</td>\n",
       "      <td>False</td>\n",
       "    </tr>\n",
       "    <tr>\n",
       "      <th>155</th>\n",
       "      <td>103</td>\n",
       "      <td>870196</td>\n",
       "      <td>627079_7716666</td>\n",
       "      <td>MARSIL LTDA</td>\n",
       "      <td>False</td>\n",
       "    </tr>\n",
       "    <tr>\n",
       "      <th>156</th>\n",
       "      <td>104</td>\n",
       "      <td>365300</td>\n",
       "      <td>627033_7716521</td>\n",
       "      <td>MARSIL LTDA</td>\n",
       "      <td>False</td>\n",
       "    </tr>\n",
       "    <tr>\n",
       "      <th>157</th>\n",
       "      <td>105</td>\n",
       "      <td>15288</td>\n",
       "      <td>627029_7716224</td>\n",
       "      <td>APARECIDA MARTINS DA CUNHA</td>\n",
       "      <td>False</td>\n",
       "    </tr>\n",
       "  </tbody>\n",
       "</table>\n",
       "<p>158 rows × 5 columns</p>\n",
       "</div>"
      ],
      "text/plain": [
       "     Unnamed: 0  INSCRIÇÃO       GeoCodigo                Proprietario  Status\n",
       "0             0     835498  627228_7713615   LILIAN ROBERTA DE FREITAS    True\n",
       "1             1     156248  627365_7713944       IVAN FELIX DOS SANTOS    True\n",
       "2             2    1044478  626994_7712391  JOAO PAULO DE ASSIS GURGEL    True\n",
       "3             3     119806  627083_7713111       JUAREZ VIEIRA DE LIMA    True\n",
       "4             4     124702  627183_7713262     WEVERTON HELENO MOREIRA    True\n",
       "..          ...        ...             ...                         ...     ...\n",
       "153         101     873250  627220_7716465                 MARSIL LTDA   False\n",
       "154         102     873098  627243_7716521                 MARSIL LTDA   False\n",
       "155         103     870196  627079_7716666                 MARSIL LTDA   False\n",
       "156         104     365300  627033_7716521                 MARSIL LTDA   False\n",
       "157         105      15288  627029_7716224  APARECIDA MARTINS DA CUNHA   False\n",
       "\n",
       "[158 rows x 5 columns]"
      ]
     },
     "metadata": {},
     "output_type": "display_data"
    }
   ],
   "source": [
    "display(dados)"
   ]
  },
  {
   "cell_type": "code",
   "execution_count": null,
   "metadata": {},
   "outputs": [],
   "source": []
  }
 ],
 "metadata": {
  "interpreter": {
   "hash": "2647ea34e536f865ab67ff9ddee7fd78773d956cec0cab53c79b32cd10da5d83"
  },
  "kernelspec": {
   "display_name": "Python 3.9.6 64-bit",
   "language": "python",
   "name": "python3"
  },
  "language_info": {
   "codemirror_mode": {
    "name": "ipython",
    "version": 3
   },
   "file_extension": ".py",
   "mimetype": "text/x-python",
   "name": "python",
   "nbconvert_exporter": "python",
   "pygments_lexer": "ipython3",
   "version": "3.9.6"
  },
  "orig_nbformat": 4
 },
 "nbformat": 4,
 "nbformat_minor": 2
}
