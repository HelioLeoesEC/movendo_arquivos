{
 "cells": [
  {
   "cell_type": "code",
   "execution_count": 15,
   "metadata": {},
   "outputs": [],
   "source": [
    "import shutil\n",
    "import os\n",
    "import pandas as pd"
   ]
  },
  {
   "cell_type": "code",
   "execution_count": 15,
   "metadata": {},
   "outputs": [],
   "source": [
    "source = r'C:\\Users\\User\\Desktop\\Renderizações\\SAO JOAO 3'\n",
    "destination = r'C:\\Users\\User\\Desktop\\Renderizações\\SAO JOAO 4'\n",
    "lista_de_arquivos = listdir(source)"
   ]
  },
  {
   "cell_type": "code",
   "execution_count": 6,
   "metadata": {},
   "outputs": [
    {
     "data": {
      "text/plain": [
       "'C:\\\\Users\\\\User\\\\Desktop\\\\Renderizações\\\\SAO JOAO 3\\\\SAO JOAO 2.xlsx'"
      ]
     },
     "execution_count": 6,
     "metadata": {},
     "output_type": "execute_result"
    }
   ],
   "source": [
    "shutil.move(source,destination)"
   ]
  },
  {
   "cell_type": "code",
   "execution_count": 13,
   "metadata": {},
   "outputs": [],
   "source": [
    "def mover_arquivos(bairro, BAIRRO):\n",
    "    source = r'C:\\Users\\User\\Desktop\\Renderizações/' + BAIRRO\n",
    "    destination = r'C:\\Users\\User\\Desktop\\Renderizações' + '/'+bairro\n",
    "\n",
    "    if os.path.isdir(destination):\n",
    "        print('O diretorio existe')\n",
    "    else:\n",
    "        os.mkdir(destination)\n",
    "\n",
    "    lista_de_arquivos = os.listdir(source)\n",
    "\n",
    "    for i in lista_de_arquivos:\n",
    "        new_path = shutil.move(f\"{source}/{i}\",destination)\n",
    "        print(new_path)\n",
    "\n",
    "    fileTest = source\n",
    "#------------------------------------------------------------\n",
    "#implementar aopagar pastas\n",
    "\n",
    "\n",
    "\n",
    "\n"
   ]
  },
  {
   "cell_type": "code",
   "execution_count": 14,
   "metadata": {},
   "outputs": [
    {
     "name": "stdout",
     "output_type": "stream",
     "text": [
      "C:\\Users\\User\\Desktop\\Renderizações/SAO JOAO\\CONSELHEIRO_LAFAIETE_NOTIFICACAO_RECADASTRAMENTO_117315_441504.PDF\n",
      "C:\\Users\\User\\Desktop\\Renderizações/SAO JOAO\\CONSELHEIRO_LAFAIETE_NOTIFICACAO_RECADASTRAMENTO_118826_441450.PDF\n",
      "C:\\Users\\User\\Desktop\\Renderizações/SAO JOAO\\CONSELHEIRO_LAFAIETE_NOTIFICACAO_RECADASTRAMENTO_119377_441453.PDF\n",
      "C:\\Users\\User\\Desktop\\Renderizações/SAO JOAO\\SAO JOAO 4.xlsx\n",
      "[WinError 5] Acesso negado: 'C:\\\\Users\\\\User\\\\Desktop\\\\Renderizações/SAO JOAO 4'\n"
     ]
    }
   ],
   "source": [
    "mover_arquivos('SAO JOAO','SAO JOAO 4')"
   ]
  },
  {
   "cell_type": "code",
   "execution_count": 22,
   "metadata": {},
   "outputs": [],
   "source": [
    "dados3 = pd.read_excel('SAO JOAO 3.xlsx')\n",
    "dados4 = pd.read_excel('SAO JOAO 4.xlsx')\n"
   ]
  },
  {
   "cell_type": "code",
   "execution_count": 24,
   "metadata": {},
   "outputs": [
    {
     "data": {
      "text/html": [
       "<div>\n",
       "<style scoped>\n",
       "    .dataframe tbody tr th:only-of-type {\n",
       "        vertical-align: middle;\n",
       "    }\n",
       "\n",
       "    .dataframe tbody tr th {\n",
       "        vertical-align: top;\n",
       "    }\n",
       "\n",
       "    .dataframe thead th {\n",
       "        text-align: right;\n",
       "    }\n",
       "</style>\n",
       "<table border=\"1\" class=\"dataframe\">\n",
       "  <thead>\n",
       "    <tr style=\"text-align: right;\">\n",
       "      <th></th>\n",
       "      <th>Unnamed: 0</th>\n",
       "      <th>INSCRIÇÃO</th>\n",
       "      <th>GeoCodigo</th>\n",
       "      <th>Proprietario</th>\n",
       "      <th>Status</th>\n",
       "    </tr>\n",
       "  </thead>\n",
       "  <tbody>\n",
       "  </tbody>\n",
       "</table>\n",
       "</div>"
      ],
      "text/plain": [
       "Empty DataFrame\n",
       "Columns: [Unnamed: 0, INSCRIÇÃO, GeoCodigo, Proprietario, Status]\n",
       "Index: []"
      ]
     },
     "metadata": {},
     "output_type": "display_data"
    }
   ],
   "source": [
    "display(dados4)"
   ]
  },
  {
   "cell_type": "code",
   "execution_count": null,
   "metadata": {},
   "outputs": [],
   "source": []
  }
 ],
 "metadata": {
  "interpreter": {
   "hash": "2647ea34e536f865ab67ff9ddee7fd78773d956cec0cab53c79b32cd10da5d83"
  },
  "kernelspec": {
   "display_name": "Python 3.9.6 64-bit",
   "language": "python",
   "name": "python3"
  },
  "language_info": {
   "codemirror_mode": {
    "name": "ipython",
    "version": 3
   },
   "file_extension": ".py",
   "mimetype": "text/x-python",
   "name": "python",
   "nbconvert_exporter": "python",
   "pygments_lexer": "ipython3",
   "version": "3.9.6"
  },
  "orig_nbformat": 4
 },
 "nbformat": 4,
 "nbformat_minor": 2
}
