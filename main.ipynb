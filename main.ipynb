{
 "cells": [
  {
   "cell_type": "code",
   "execution_count": 7,
   "metadata": {},
   "outputs": [],
   "source": [
    "import shutil\n",
    "from os import listdir"
   ]
  },
  {
   "cell_type": "code",
   "execution_count": 15,
   "metadata": {},
   "outputs": [],
   "source": [
    "source = r'C:\\Users\\User\\Desktop\\Renderizações\\SAO JOAO 3'\n",
    "destination = r'C:\\Users\\User\\Desktop\\Renderizações\\SAO JOAO 4'\n",
    "lista_de_arquivos = listdir(source)"
   ]
  },
  {
   "cell_type": "code",
   "execution_count": 6,
   "metadata": {},
   "outputs": [
    {
     "data": {
      "text/plain": [
       "'C:\\\\Users\\\\User\\\\Desktop\\\\Renderizações\\\\SAO JOAO 3\\\\SAO JOAO 2.xlsx'"
      ]
     },
     "execution_count": 6,
     "metadata": {},
     "output_type": "execute_result"
    }
   ],
   "source": [
    "shutil.move(source,destination)"
   ]
  },
  {
   "cell_type": "code",
   "execution_count": 16,
   "metadata": {},
   "outputs": [
    {
     "name": "stdout",
     "output_type": "stream",
     "text": [
      "C:\\Users\\User\\Desktop\\Renderizações\\SAO JOAO 4\\CONSELHEIRO_LAFAIETE_NOTIFICACAO_RECADASTRAMENTO_1038206_441410.PDF\n",
      "C:\\Users\\User\\Desktop\\Renderizações\\SAO JOAO 4\\CONSELHEIRO_LAFAIETE_NOTIFICACAO_RECADASTRAMENTO_1044478_441381.PDF\n",
      "C:\\Users\\User\\Desktop\\Renderizações\\SAO JOAO 4\\CONSELHEIRO_LAFAIETE_NOTIFICACAO_RECADASTRAMENTO_114235_441441.PDF\n",
      "C:\\Users\\User\\Desktop\\Renderizações\\SAO JOAO 4\\CONSELHEIRO_LAFAIETE_NOTIFICACAO_RECADASTRAMENTO_114774_441444.PDF\n",
      "C:\\Users\\User\\Desktop\\Renderizações\\SAO JOAO 4\\CONSELHEIRO_LAFAIETE_NOTIFICACAO_RECADASTRAMENTO_114782_441389.PDF\n",
      "C:\\Users\\User\\Desktop\\Renderizações\\SAO JOAO 4\\CONSELHEIRO_LAFAIETE_NOTIFICACAO_RECADASTRAMENTO_114847_441519.PDF\n",
      "C:\\Users\\User\\Desktop\\Renderizações\\SAO JOAO 4\\CONSELHEIRO_LAFAIETE_NOTIFICACAO_RECADASTRAMENTO_116637_441447.PDF\n",
      "C:\\Users\\User\\Desktop\\Renderizações\\SAO JOAO 4\\CONSELHEIRO_LAFAIETE_NOTIFICACAO_RECADASTRAMENTO_117315_441504.PDF\n",
      "C:\\Users\\User\\Desktop\\Renderizações\\SAO JOAO 4\\CONSELHEIRO_LAFAIETE_NOTIFICACAO_RECADASTRAMENTO_1175288_441517.PDF\n",
      "C:\\Users\\User\\Desktop\\Renderizações\\SAO JOAO 4\\CONSELHEIRO_LAFAIETE_NOTIFICACAO_RECADASTRAMENTO_118826_441450.PDF\n",
      "C:\\Users\\User\\Desktop\\Renderizações\\SAO JOAO 4\\CONSELHEIRO_LAFAIETE_NOTIFICACAO_RECADASTRAMENTO_119377_441453.PDF\n",
      "C:\\Users\\User\\Desktop\\Renderizações\\SAO JOAO 4\\CONSELHEIRO_LAFAIETE_NOTIFICACAO_RECADASTRAMENTO_119806_441382.PDF\n",
      "C:\\Users\\User\\Desktop\\Renderizações\\SAO JOAO 4\\CONSELHEIRO_LAFAIETE_NOTIFICACAO_RECADASTRAMENTO_123919_441456.PDF\n",
      "C:\\Users\\User\\Desktop\\Renderizações\\SAO JOAO 4\\CONSELHEIRO_LAFAIETE_NOTIFICACAO_RECADASTRAMENTO_124702_441384.PDF\n",
      "C:\\Users\\User\\Desktop\\Renderizações\\SAO JOAO 4\\CONSELHEIRO_LAFAIETE_NOTIFICACAO_RECADASTRAMENTO_126926_441462.PDF\n",
      "C:\\Users\\User\\Desktop\\Renderizações\\SAO JOAO 4\\CONSELHEIRO_LAFAIETE_NOTIFICACAO_RECADASTRAMENTO_127132_441500.PDF\n",
      "C:\\Users\\User\\Desktop\\Renderizações\\SAO JOAO 4\\CONSELHEIRO_LAFAIETE_NOTIFICACAO_RECADASTRAMENTO_127965_441465.PDF\n",
      "C:\\Users\\User\\Desktop\\Renderizações\\SAO JOAO 4\\CONSELHEIRO_LAFAIETE_NOTIFICACAO_RECADASTRAMENTO_128546_441499.PDF\n",
      "C:\\Users\\User\\Desktop\\Renderizações\\SAO JOAO 4\\CONSELHEIRO_LAFAIETE_NOTIFICACAO_RECADASTRAMENTO_136786_441501.PDF\n",
      "C:\\Users\\User\\Desktop\\Renderizações\\SAO JOAO 4\\CONSELHEIRO_LAFAIETE_NOTIFICACAO_RECADASTRAMENTO_155993_441380.PDF\n",
      "C:\\Users\\User\\Desktop\\Renderizações\\SAO JOAO 4\\CONSELHEIRO_LAFAIETE_NOTIFICACAO_RECADASTRAMENTO_158593_441425.PDF\n",
      "C:\\Users\\User\\Desktop\\Renderizações\\SAO JOAO 4\\CONSELHEIRO_LAFAIETE_NOTIFICACAO_RECADASTRAMENTO_233170_441422.PDF\n",
      "C:\\Users\\User\\Desktop\\Renderizações\\SAO JOAO 4\\CONSELHEIRO_LAFAIETE_NOTIFICACAO_RECADASTRAMENTO_248118_441436.PDF\n",
      "C:\\Users\\User\\Desktop\\Renderizações\\SAO JOAO 4\\CONSELHEIRO_LAFAIETE_NOTIFICACAO_RECADASTRAMENTO_256382_441392.PDF\n",
      "C:\\Users\\User\\Desktop\\Renderizações\\SAO JOAO 4\\CONSELHEIRO_LAFAIETE_NOTIFICACAO_RECADASTRAMENTO_256730_441428.PDF\n",
      "C:\\Users\\User\\Desktop\\Renderizações\\SAO JOAO 4\\CONSELHEIRO_LAFAIETE_NOTIFICACAO_RECADASTRAMENTO_260851_441502.PDF\n",
      "C:\\Users\\User\\Desktop\\Renderizações\\SAO JOAO 4\\CONSELHEIRO_LAFAIETE_NOTIFICACAO_RECADASTRAMENTO_285846_441506.PDF\n",
      "C:\\Users\\User\\Desktop\\Renderizações\\SAO JOAO 4\\CONSELHEIRO_LAFAIETE_NOTIFICACAO_RECADASTRAMENTO_286435_441386.PDF\n",
      "C:\\Users\\User\\Desktop\\Renderizações\\SAO JOAO 4\\CONSELHEIRO_LAFAIETE_NOTIFICACAO_RECADASTRAMENTO_287105_441419.PDF\n",
      "C:\\Users\\User\\Desktop\\Renderizações\\SAO JOAO 4\\CONSELHEIRO_LAFAIETE_NOTIFICACAO_RECADASTRAMENTO_290947_441508.PDF\n",
      "C:\\Users\\User\\Desktop\\Renderizações\\SAO JOAO 4\\CONSELHEIRO_LAFAIETE_NOTIFICACAO_RECADASTRAMENTO_291099_441401.PDF\n",
      "C:\\Users\\User\\Desktop\\Renderizações\\SAO JOAO 4\\CONSELHEIRO_LAFAIETE_NOTIFICACAO_RECADASTRAMENTO_299081_441404.PDF\n",
      "C:\\Users\\User\\Desktop\\Renderizações\\SAO JOAO 4\\CONSELHEIRO_LAFAIETE_NOTIFICACAO_RECADASTRAMENTO_335843_441438.PDF\n",
      "C:\\Users\\User\\Desktop\\Renderizações\\SAO JOAO 4\\CONSELHEIRO_LAFAIETE_NOTIFICACAO_RECADASTRAMENTO_353612_441395.PDF\n",
      "C:\\Users\\User\\Desktop\\Renderizações\\SAO JOAO 4\\CONSELHEIRO_LAFAIETE_NOTIFICACAO_RECADASTRAMENTO_355950_441503.PDF\n",
      "C:\\Users\\User\\Desktop\\Renderizações\\SAO JOAO 4\\CONSELHEIRO_LAFAIETE_NOTIFICACAO_RECADASTRAMENTO_356247_441505.PDF\n",
      "C:\\Users\\User\\Desktop\\Renderizações\\SAO JOAO 4\\CONSELHEIRO_LAFAIETE_NOTIFICACAO_RECADASTRAMENTO_356310_441507.PDF\n",
      "C:\\Users\\User\\Desktop\\Renderizações\\SAO JOAO 4\\CONSELHEIRO_LAFAIETE_NOTIFICACAO_RECADASTRAMENTO_378500_441513.PDF\n",
      "C:\\Users\\User\\Desktop\\Renderizações\\SAO JOAO 4\\CONSELHEIRO_LAFAIETE_NOTIFICACAO_RECADASTRAMENTO_378526_441515.PDF\n",
      "C:\\Users\\User\\Desktop\\Renderizações\\SAO JOAO 4\\CONSELHEIRO_LAFAIETE_NOTIFICACAO_RECADASTRAMENTO_378666_441514.PDF\n",
      "C:\\Users\\User\\Desktop\\Renderizações\\SAO JOAO 4\\CONSELHEIRO_LAFAIETE_NOTIFICACAO_RECADASTRAMENTO_381411_441512.PDF\n",
      "C:\\Users\\User\\Desktop\\Renderizações\\SAO JOAO 4\\CONSELHEIRO_LAFAIETE_NOTIFICACAO_RECADASTRAMENTO_385930_441407.PDF\n",
      "C:\\Users\\User\\Desktop\\Renderizações\\SAO JOAO 4\\CONSELHEIRO_LAFAIETE_NOTIFICACAO_RECADASTRAMENTO_386596_441510.PDF\n",
      "C:\\Users\\User\\Desktop\\Renderizações\\SAO JOAO 4\\CONSELHEIRO_LAFAIETE_NOTIFICACAO_RECADASTRAMENTO_407720_441511.PDF\n",
      "C:\\Users\\User\\Desktop\\Renderizações\\SAO JOAO 4\\CONSELHEIRO_LAFAIETE_NOTIFICACAO_RECADASTRAMENTO_408727_441509.PDF\n",
      "C:\\Users\\User\\Desktop\\Renderizações\\SAO JOAO 4\\CONSELHEIRO_LAFAIETE_NOTIFICACAO_RECADASTRAMENTO_887226_441416.PDF\n",
      "C:\\Users\\User\\Desktop\\Renderizações\\SAO JOAO 4\\CONSELHEIRO_LAFAIETE_NOTIFICACAO_RECADASTRAMENTO_901970_441430.PDF\n",
      "C:\\Users\\User\\Desktop\\Renderizações\\SAO JOAO 4\\CONSELHEIRO_LAFAIETE_NOTIFICACAO_RECADASTRAMENTO_908851_441433.PDF\n",
      "C:\\Users\\User\\Desktop\\Renderizações\\SAO JOAO 4\\CONSELHEIRO_LAFAIETE_NOTIFICACAO_RECADASTRAMENTO_91812_441459.PDF\n",
      "C:\\Users\\User\\Desktop\\Renderizações\\SAO JOAO 4\\CONSELHEIRO_LAFAIETE_NOTIFICACAO_RECADASTRAMENTO_925470_441413.PDF\n",
      "C:\\Users\\User\\Desktop\\Renderizações\\SAO JOAO 4\\CONSELHEIRO_LAFAIETE_NOTIFICACAO_RECADASTRAMENTO_955531_441398.PDF\n",
      "C:\\Users\\User\\Desktop\\Renderizações\\SAO JOAO 4\\SAO JOAO 2.xlsx\n",
      "C:\\Users\\User\\Desktop\\Renderizações\\SAO JOAO 4\\SAO JOAO 3.xlsx\n"
     ]
    }
   ],
   "source": [
    "def mover_arquivos(bairro):\n",
    "    source = r'C:\\Users\\User\\Google Drive\\dados'\n",
    "    destination = r'C:\\Users\\User\\Google Drive\\dados'\n",
    "    lista_de_arquivos = listdir(source)\n",
    "\n",
    "\n",
    "    for i in lista_de_arquivos:\n",
    "        new_path = shutil.move(f\"{source}/{i}\",destination)\n",
    "        print(new_path)"
   ]
  },
  {
   "cell_type": "code",
   "execution_count": null,
   "metadata": {},
   "outputs": [],
   "source": []
  }
 ],
 "metadata": {
  "interpreter": {
   "hash": "2647ea34e536f865ab67ff9ddee7fd78773d956cec0cab53c79b32cd10da5d83"
  },
  "kernelspec": {
   "display_name": "Python 3.9.6 64-bit",
   "language": "python",
   "name": "python3"
  },
  "language_info": {
   "codemirror_mode": {
    "name": "ipython",
    "version": 3
   },
   "file_extension": ".py",
   "mimetype": "text/x-python",
   "name": "python",
   "nbconvert_exporter": "python",
   "pygments_lexer": "ipython3",
   "version": "3.9.6"
  },
  "orig_nbformat": 4
 },
 "nbformat": 4,
 "nbformat_minor": 2
}
